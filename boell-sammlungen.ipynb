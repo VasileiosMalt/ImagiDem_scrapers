{
 "cells": [
  {
   "cell_type": "code",
   "execution_count": null,
   "id": "84bc1077",
   "metadata": {},
   "outputs": [],
   "source": [
    "# http://boell-sammlungen.faust-web.de/szeig.FAU?sid=DA10D13E22&dm=1&erg=A&qpos=12&rpos=11&ipos=11\n",
    "# http://boell-sammlungen.faust-web.de/zvimg.FAU?sid=DA10D13E&DM=1&qpos=12062&ipos=1&erg=A&hst=1&rpos=sammlungen.jpg"
   ]
  },
  {
   "cell_type": "code",
   "execution_count": null,
   "id": "0f303092",
   "metadata": {},
   "outputs": [],
   "source": [
    "# http://boell-sammlungen.faust-web.de/"
   ]
  },
  {
   "cell_type": "code",
   "execution_count": 1,
   "id": "d7185282",
   "metadata": {},
   "outputs": [],
   "source": [
    "import re\n",
    "import requests\n",
    "from bs4 import BeautifulSoup\n",
    "import pandas as pd\n",
    "import requests\n",
    "import shutil\n",
    "import os"
   ]
  },
  {
   "cell_type": "code",
   "execution_count": null,
   "id": "9041a5ce",
   "metadata": {},
   "outputs": [],
   "source": [
    "url_start='http://boell-sammlungen.faust-web.de/szeig.FAU?sid='\n",
    "ssid=str(input(\"Insert session id: \"))\n",
    "dm= '&dm='\n",
    "num_dm=1\n",
    "erg='&erg=A'\n",
    "qpos= '&qpos='\n",
    "num_qpos=3\n",
    "rpos='&rpos='\n",
    "num_rpos= 2\n",
    "ipos='&ipos='\n",
    "num_ipos=2\n",
    "\n",
    "final_urls=[]\n",
    "num_page= int(input(\"Insert number of pages: \"))\n",
    "for search in range(1,num_page):\n",
    "    final_search=str(url_start+ssid+dm+str(num_dm)+erg+qpos+str(num_qpos)+rpos+str(num_rpos)+ipos+str(num_ipos))\n",
    "    num_qpos+=1\n",
    "    num_rpos+=1\n",
    "    num_ipos+=1\n",
    "    reqs = requests.get(final_search)\n",
    "    soup = BeautifulSoup(reqs.text, 'html.parser')\n",
    "    txt= '.*.jpg'\n",
    "    for url in re.findall(txt,str(soup)):\n",
    "        url=url.replace('<a href=\"','http://boell-sammlungen.faust-web.de/')\n",
    "        final_urls.append(url)\n",
    "\n",
    "final_urls = [x for x in final_urls if not x.startswith('imgkh1')]\n",
    "final_urls= list(set(final_urls))\n",
    "len(final_urls)\n",
    "\n",
    "final_images=[]\n",
    "\n",
    "for link in final_urls:\n",
    "    reqs = requests.get(link)\n",
    "    soup = BeautifulSoup(reqs.text, 'html.parser')\n",
    "    for url in soup.find_all('img'):\n",
    "        url=url['src']\n",
    "        final_images.append(url)\n",
    "\n",
    "final_images = [x for x in final_images if not x.startswith('data:')]\n",
    "\n",
    "boel='http://boell-sammlungen.faust-web.de/'\n",
    "final_images = [boel+x for x in final_images]\n",
    "\n",
    "print(\"Image URLs extracted...\")\n",
    "final_df= pd.DataFrame()\n",
    "final_df['site_images']= final_images\n",
    "final_df= final_df.drop_duplicates()\n",
    "search_term= str(input(\"search term: \"))\n",
    "csv_name= search_term+\"_boell_sammlungen_image_urls\"+\".csv\"\n",
    "final_df.to_csv(csv_name,index=False)\n",
    "final_images= final_df['site_images'].to_list()\n",
    "\n",
    "search_term= search_term.replace(' ','')\n",
    "search_term=search_term.replace(',','')\n",
    "os.mkdir(os.path.join(os.getcwd(),\"images_from_the_past\",'boell_sammlungen',search_term))\n",
    "\n",
    "img_num=0\n",
    "for url in final_images:\n",
    "    try:\n",
    "        img_num+=1\n",
    "        image_url = url\n",
    "        filename= os.path.join(os.getcwd(),\"images_from_the_past\",'boell_sammlungen',search_term,str(img_num)+'.jpg')\n",
    "        r = requests.get(image_url, stream = True)\n",
    "\n",
    "        # Check if the image was retrieved successfully\n",
    "        if r.status_code == 200:\n",
    "            # Set decode_content value to True, otherwise the downloaded image file's size will be zero.\n",
    "            r.raw.decode_content = True\n",
    "\n",
    "            # Open a local file with wb ( write binary ) permission.\n",
    "            with open(filename,'wb') as f:\n",
    "                shutil.copyfileobj(r.raw, f)\n",
    "        else:\n",
    "            print('Image Couldn\\'t be retreived')\n",
    "    except:\n",
    "        continue"
   ]
  }
 ],
 "metadata": {
  "kernelspec": {
   "display_name": "Python 3 (ipykernel)",
   "language": "python",
   "name": "python3"
  },
  "language_info": {
   "codemirror_mode": {
    "name": "ipython",
    "version": 3
   },
   "file_extension": ".py",
   "mimetype": "text/x-python",
   "name": "python",
   "nbconvert_exporter": "python",
   "pygments_lexer": "ipython3",
   "version": "3.9.18"
  }
 },
 "nbformat": 4,
 "nbformat_minor": 5
}
