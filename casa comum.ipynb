{
 "cells": [
  {
   "cell_type": "code",
   "execution_count": null,
   "id": "9f7ffe01",
   "metadata": {},
   "outputs": [],
   "source": [
    "# <a href=\"http://casacomum.org/cc/visualizador?pasta=06897.042.027\" class=\"link_documento\" \n",
    "# target=\"_blank\"><img class=\"thumb_documento\" \n",
    "# src=\"http://casacomum.org/aebdocs/06/06897/06897.042.027/06897.042.027.jpg\" alt=\"06897.042.027\"></a>"
   ]
  },
  {
   "cell_type": "code",
   "execution_count": null,
   "id": "af909334",
   "metadata": {},
   "outputs": [],
   "source": [
    "# <img id=\"pagina_actual\" class=\"pagina_img\" alt=\"06897.042.027- pag.1\" title=\"06897.042.027 - pag.1\" \n",
    "# src=\"http://casacomum.org/aebdocs/06/06897/06897.042.027/d2/06897.042.027_p0001_id001554710_D2.jpg\">"
   ]
  },
  {
   "cell_type": "code",
   "execution_count": 1,
   "id": "ba218339",
   "metadata": {},
   "outputs": [],
   "source": [
    "# http://casacomum.org/cc/arquivos?set=e_6899/n_100#!e_6899/p_1"
   ]
  },
  {
   "cell_type": "code",
   "execution_count": 1,
   "id": "a9ccb623",
   "metadata": {},
   "outputs": [],
   "source": [
    "# img_id.src"
   ]
  },
  {
   "cell_type": "code",
   "execution_count": 49,
   "id": "964dc252",
   "metadata": {},
   "outputs": [],
   "source": [
    "import re\n",
    "import requests\n",
    "from bs4 import BeautifulSoup\n",
    "import pandas as pd\n",
    "import requests\n",
    "import shutil\n",
    "import os"
   ]
  },
  {
   "cell_type": "code",
   "execution_count": 59,
   "id": "aa8c602a",
   "metadata": {},
   "outputs": [
    {
     "name": "stdout",
     "output_type": "stream",
     "text": [
      "Insert search term: 5 de Outubro de 1910\n"
     ]
    }
   ],
   "source": [
    "start= 'http://casacomum.org/cc/pesqArquivo?termo='\n",
    "search_term= str(input(\"Insert search term: \"))\n",
    "middle='&pag='\n",
    "pagenum=1\n",
    "end= '&nResult=100&facetFilterType=Fotografias'\n",
    "# 5 de Outubro de 1910"
   ]
  },
  {
   "cell_type": "code",
   "execution_count": 60,
   "id": "dc4abe85",
   "metadata": {},
   "outputs": [
    {
     "name": "stdout",
     "output_type": "stream",
     "text": [
      "Insert number of pages: 5\n"
     ]
    }
   ],
   "source": [
    "final_urls=[]\n",
    "num_page= int(input(\"Insert number of pages: \"))\n",
    "num_page+=1\n",
    "for search in range(1,num_page):\n",
    "    final_search=start+search_term+middle+str(search)+end\n",
    "    reqs = requests.get(final_search)\n",
    "    soup = BeautifulSoup(reqs.text, 'html.parser')\n",
    "    for url in soup.find_all('a', {\"class\": \"link_documento\"}):\n",
    "        url=url['href']\n",
    "        final_urls.append(url)"
   ]
  },
  {
   "cell_type": "code",
   "execution_count": 61,
   "id": "13988109",
   "metadata": {},
   "outputs": [],
   "source": [
    "final_urls= list(set(final_urls))\n",
    "final_images=[]"
   ]
  },
  {
   "cell_type": "code",
   "execution_count": 62,
   "id": "5ed1491a",
   "metadata": {},
   "outputs": [],
   "source": [
    "for link in final_urls:\n",
    "    reqs = requests.get(link)\n",
    "    soup = BeautifulSoup(reqs.text, 'html.parser')\n",
    "    for url in soup.find_all('img'):\n",
    "        url=url['src']\n",
    "        final_images.append(url)"
   ]
  },
  {
   "cell_type": "code",
   "execution_count": 63,
   "id": "b46d36ab",
   "metadata": {},
   "outputs": [],
   "source": [
    "final_images = [x for x in final_images if not x.startswith('img/spinner.gif')]\n",
    "final_images = [x for x in final_images if not x.startswith('http://casacomum.org/cc/img/logo.png')]\n",
    "final_images=list(set(final_images))"
   ]
  },
  {
   "cell_type": "code",
   "execution_count": 64,
   "id": "5dfe9e10",
   "metadata": {},
   "outputs": [
    {
     "name": "stdout",
     "output_type": "stream",
     "text": [
      "Image URLs extracted...\n",
      "search term: 5 de Outubro de 1910\n"
     ]
    }
   ],
   "source": [
    "print(\"Image URLs extracted...\")\n",
    "final_df= pd.DataFrame()\n",
    "final_df['site_images']= final_images\n",
    "final_df= final_df.drop_duplicates()\n",
    "search_term= str(input(\"search term: \"))\n",
    "search_term= search_term.replace(' ','')\n",
    "search_term=search_term.replace(',','')\n",
    "csv_name= search_term+\"_casacomum_image_urls\"+\".csv\"\n",
    "csv_name= os.path.join(os.getcwd(),\"images_from_the_past\",'PORTUGAL',csv_name)\n",
    "final_df.to_csv(csv_name,index=False)\n",
    "final_images= final_df['site_images'].to_list()\n",
    "\n",
    "os.mkdir(os.path.join(os.getcwd(),\"images_from_the_past\",'PORTUGAL',search_term))"
   ]
  },
  {
   "cell_type": "code",
   "execution_count": 65,
   "id": "b8fb00af",
   "metadata": {},
   "outputs": [],
   "source": [
    "for url in final_images:\n",
    "    try:\n",
    "        image_url = url\n",
    "        filename=image_url.split(\"/\")[-1]\n",
    "        filename=filename.split(\".\")[-2]\n",
    "        filename=filename+'.jpg'\n",
    "        filename= os.path.join(os.getcwd(),\"images_from_the_past\",'PORTUGAL',search_term,filename)\n",
    "        r = requests.get(image_url, stream = True)\n",
    "\n",
    "        # Check if the image was retrieved successfully\n",
    "        if r.status_code == 200:\n",
    "            # Set decode_content value to True, otherwise the downloaded image file's size will be zero.\n",
    "            r.raw.decode_content = True\n",
    "\n",
    "            # Open a local file with wb ( write binary ) permission.\n",
    "            with open(filename,'wb') as f:\n",
    "                shutil.copyfileobj(r.raw, f)\n",
    "        else:\n",
    "            print('Image Couldn\\'t be retreived')\n",
    "    except:\n",
    "        continue"
   ]
  }
 ],
 "metadata": {
  "kernelspec": {
   "display_name": "Python 3 (ipykernel)",
   "language": "python",
   "name": "python3"
  },
  "language_info": {
   "codemirror_mode": {
    "name": "ipython",
    "version": 3
   },
   "file_extension": ".py",
   "mimetype": "text/x-python",
   "name": "python",
   "nbconvert_exporter": "python",
   "pygments_lexer": "ipython3",
   "version": "3.9.18"
  }
 },
 "nbformat": 4,
 "nbformat_minor": 5
}
