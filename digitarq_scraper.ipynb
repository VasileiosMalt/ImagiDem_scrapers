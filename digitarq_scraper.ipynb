{
 "cells": [
  {
   "cell_type": "code",
   "execution_count": 10,
   "id": "a186dbb9",
   "metadata": {},
   "outputs": [],
   "source": [
    "import pandas as pd\n",
    "import re\n",
    "import requests\n",
    "from bs4 import BeautifulSoup\n",
    "from selenium import webdriver\n",
    "from selenium.webdriver.common.by import By\n",
    "import time\n",
    "from selenium.webdriver.firefox.firefox_profile import FirefoxProfile\n",
    "import os\n",
    "\n",
    "profile = webdriver.FirefoxProfile()\n",
    "profile.set_preference('browser.download.folderList', 2) \n",
    "profile.set_preference('browser.download.manager.showWhenStarting', False)\n",
    "profile.set_preference('browser.helperApps.neverAsk.openFile', 'text/csv,application/x-msexcel,application/excel,application/x-excel,application/vnd.ms-excel,image/png,image/jpeg,text/html,text/plain,application/msword,application/xml')\n",
    "profile.set_preference('browser.helperApps.neverAsk.saveToDisk', 'text/csv,application/x-msexcel,application/excel,application/x-excel,application/vnd.ms-excel,image/png,image/jpeg,text/html,text/plain,application/msword,application/xml')\n",
    "profile.set_preference('browser.helperApps.alwaysAsk.force', False)\n",
    "profile.set_preference('browser.download.manager.alertOnEXEOpen', False)\n",
    "profile.set_preference('browser.download.manager.focusWhenStarting', False)\n",
    "profile.set_preference('browser.download.manager.useWindow', False)\n",
    "profile.set_preference('browser.download.manager.showAlertOnComplete', False)\n",
    "profile.set_preference('browser.download.manager.closeWhenDone', False)"
   ]
  },
  {
   "cell_type": "code",
   "execution_count": 3,
   "id": "9b3731e0",
   "metadata": {},
   "outputs": [],
   "source": [
    "def main(target_url):\n",
    "    browser=webdriver.Firefox(firefox_profile=profile)\n",
    "    browser.get(target_url)\n",
    "    element=browser.find_element(By.ID,\"ViewerControl1_TreeViewFiles\")\n",
    "#    element.send_keys(\"typing\")\n",
    "\n",
    "    link_txt = []\n",
    "    for e in element.find_elements_by_class_name('TreeNode'):\n",
    "#         print(e.text)\n",
    "        if e.text.endswith('.tif') or e.text.endswith('.TIF'):\n",
    "#             print('    .tif')\n",
    "            if e.text not in link_txt:\n",
    "                link_txt.append(e.text)\n",
    "#                 print('    added to list')\n",
    "            else:\n",
    "                pass\n",
    "#                 print('    already on list')\n",
    "        else:\n",
    "            pass\n",
    "#             print('    not .tif')\n",
    "    \n",
    "    for a in link_txt:\n",
    "#         print(a)\n",
    "        lnk = browser.find_element_by_xpath(\"//*[text()='{}']\".format(a))\n",
    "#         print(lnk)\n",
    "        lnk.click()\n",
    "        time.sleep(5)\n",
    "        dl_button = browser.find_element(By.ID, \"ViewerControl1_HyperLinkDownload\")\n",
    "        dl_button.click()\n",
    "        \n",
    "\n",
    "    browser.close()"
   ]
  },
  {
   "cell_type": "code",
   "execution_count": 4,
   "id": "4301af4a",
   "metadata": {},
   "outputs": [],
   "source": [
    "hist_photos_pt= pd.read_excel('Historical photos.xlsx',header=1)['Keywords.2']"
   ]
  },
  {
   "cell_type": "code",
   "execution_count": 5,
   "id": "703a8dcf",
   "metadata": {},
   "outputs": [],
   "source": [
    "hist_photos_pt= hist_photos_pt.dropna().to_list()"
   ]
  },
  {
   "cell_type": "code",
   "execution_count": 6,
   "id": "32a08839",
   "metadata": {},
   "outputs": [],
   "source": [
    "hist_photos_pt_cleaned= []\n",
    "for i in hist_photos_pt:\n",
    "    i = i.replace('\\xa0','')\n",
    "    i= i.replace(' ','+')\n",
    "    hist_photos_pt_cleaned.append(i)"
   ]
  },
  {
   "cell_type": "code",
   "execution_count": 7,
   "id": "e7853b20",
   "metadata": {},
   "outputs": [],
   "source": [
    "hist_photos_pt_cleaned=hist_photos_pt_cleaned[1:-3]"
   ]
  },
  {
   "cell_type": "code",
   "execution_count": 8,
   "id": "85316fee",
   "metadata": {
    "scrolled": true
   },
   "outputs": [
    {
     "data": {
      "text/plain": [
       "['Implantação+da+República',\n",
       " 'Revolução+1910',\n",
       " 'Barricada',\n",
       " 'Dia+da+Liberdade',\n",
       " '25+de+Abril+1974',\n",
       " 'Dia+do+Trabalhador',\n",
       " '1º+de+Maio+de+1974',\n",
       " 'Protesto+trabalhista',\n",
       " 'Revolução+dos+Cravos',\n",
       " 'protestos+ambientalistas',\n",
       " 'lutanuclearem+Portugal',\n",
       " 'movimentoanti-nuclear+deFerrel',\n",
       " 'protesto+Ferrel',\n",
       " 'Ferrel,+1978',\n",
       " '1º+de+Maio+em+Liberdade',\n",
       " 'Pela+Vida+Contra+o+Nuclear',\n",
       " 'Manifestação',\n",
       " 'protesto+popular']"
      ]
     },
     "execution_count": 8,
     "metadata": {},
     "output_type": "execute_result"
    }
   ],
   "source": [
    "hist_photos_pt_cleaned"
   ]
  },
  {
   "cell_type": "code",
   "execution_count": 11,
   "id": "bebdb482",
   "metadata": {},
   "outputs": [
    {
     "name": "stdout",
     "output_type": "stream",
     "text": [
      "Implantação+da+República\n",
      "Revolução+1910\n",
      "Barricada\n",
      "Dia+da+Liberdade\n",
      "25+de+Abril+1974\n",
      "Dia+do+Trabalhador\n",
      "1º+de+Maio+de+1974\n",
      "Protesto+trabalhista\n",
      "Revolução+dos+Cravos\n",
      "protestos+ambientalistas\n",
      "lutanuclearem+Portugal\n",
      "movimentoanti-nuclear+deFerrel\n",
      "protesto+Ferrel\n",
      "Ferrel,+1978\n",
      "1º+de+Maio+em+Liberdade\n",
      "Pela+Vida+Contra+o+Nuclear\n",
      "Manifestação\n",
      "protesto+popular\n"
     ]
    }
   ],
   "source": [
    "for search_term in hist_photos_pt_cleaned:\n",
    "    try:\n",
    "        print(search_term)\n",
    "        basic_link= 'https://digitarq.cpf.arquivos.pt'\n",
    "        result_link= '/results?p0=UnitTitle&o0=1&v0='\n",
    "        search_term=search_term\n",
    "        link_final= basic_link +result_link+ search_term\n",
    "\n",
    "        final_urls= []\n",
    "        for base_link in range(100):\n",
    "            page_part_one= '&p='\n",
    "            page_num=str(base_link)\n",
    "            page_part_two='&s=CompleteUnitId&sd=False'\n",
    "\n",
    "            page= link_final+ page_part_one+page_num+page_part_two\n",
    "\n",
    "            reqs = requests.get(page)\n",
    "            soup = BeautifulSoup(reqs.text, 'html.parser')\n",
    "            prefix= 'https://digitarq.cpf.arquivos.pt/'\n",
    "            txt= 'href=\"details?.*\"\\[[^\\s]*\\s'\n",
    "            for i in re.findall(txt,str(soup)):\n",
    "                final_url= prefix + i.split(\" id\")[0].replace(\"details\",\"viewer\")\n",
    "                final_url= final_url.replace('href=\"','')\n",
    "                final_url=final_url.replace('\"','')\n",
    "                final_urls.append(final_url)\n",
    "\n",
    "        search_term= search_term.replace(\"+\",\"_\")\n",
    "\n",
    "        new_dir= os.path.join(os.getcwd(),\"images_from_the_past\",\"PORTUGAL\",search_term)\n",
    "        os.mkdir(new_dir)\n",
    "        profile.set_preference('browser.download.dir', new_dir)\n",
    "\n",
    "        for link in final_urls:\n",
    "            try:\n",
    "                main(link)\n",
    "            except:\n",
    "                print('sth happened!')\n",
    "                time.sleep(2)\n",
    "                continue\n",
    "    except:\n",
    "        continue"
   ]
  },
  {
   "cell_type": "code",
   "execution_count": null,
   "id": "b71146a3",
   "metadata": {},
   "outputs": [],
   "source": [
    "# df = pd.read_csv(\"digitarq_pt/fuzzable.txt\", sep=\" \",header=None)\n",
    "\n",
    "# df['links']=df[0]\n",
    "\n",
    "# df.drop(columns=[0],inplace=True)\n",
    "\n",
    "# links_df= df[df['links'].str.contains('viewer')]\n",
    "\n",
    "# link_list =links_df['links'].to_list()"
   ]
  }
 ],
 "metadata": {
  "kernelspec": {
   "display_name": "Python 3 (ipykernel)",
   "language": "python",
   "name": "python3"
  },
  "language_info": {
   "codemirror_mode": {
    "name": "ipython",
    "version": 3
   },
   "file_extension": ".py",
   "mimetype": "text/x-python",
   "name": "python",
   "nbconvert_exporter": "python",
   "pygments_lexer": "ipython3",
   "version": "3.9.18"
  }
 },
 "nbformat": 4,
 "nbformat_minor": 5
}
