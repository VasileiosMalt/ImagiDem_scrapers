{
 "cells": [
  {
   "cell_type": "code",
   "execution_count": 1,
   "id": "8d2ba085",
   "metadata": {},
   "outputs": [],
   "source": [
    "import re\n",
    "import requests\n",
    "from bs4 import BeautifulSoup\n",
    "import pandas as pd\n",
    "import requests\n",
    "import shutil\n",
    "import os"
   ]
  },
  {
   "cell_type": "markdown",
   "id": "b9f004db",
   "metadata": {
    "jp-MarkdownHeadingCollapsed": true
   },
   "source": [
    "# Museovirasto"
   ]
  },
  {
   "cell_type": "code",
   "execution_count": 7,
   "id": "2a99f8dd",
   "metadata": {},
   "outputs": [
    {
     "name": "stdout",
     "output_type": "stream",
     "text": [
      "Insert search term: Koijärvi\n",
      "Insert number of pages: 2\n"
     ]
    }
   ],
   "source": [
    "start= 'https://museovirasto.finna.fi/Search/Results?filter[]=search_daterange_mv%3A\"overlap|['\n",
    "fromyear= str(1900)\n",
    "up_to= str(1999)\n",
    "look= ']\"&lookfor='\n",
    "term= str(input('Insert search term: '))\n",
    "term=term.replace(\" \",\"+\")\n",
    "end= '&type=AllFields&page='\n",
    "pg_num=int(input('Insert number of pages: '))\n",
    "\n",
    "final_urls=[]\n",
    "pg_num+=1\n",
    "\n",
    "for page in range(1,pg_num):\n",
    "    page=str(page)\n",
    "    final_search=start+fromyear+'TO'+up_to+look+term+end+page\n",
    "    reqs = requests.get(final_search)\n",
    "    soup = BeautifulSoup(reqs.text, 'html.parser')\n",
    "    txt= r'href=.*>'\n",
    "    for url in re.findall(txt,str(soup.find_all('a',class_=\"image-popup-trigger\"))):\n",
    "        url=url.replace('href=\"/Record/','https://museovirasto.finna.fi/Cover/Show?id=')\n",
    "        url=url.replace('\">','&index=0&size=large&source=Solr')\n",
    "        final_urls.append(url)\n",
    "\n",
    "os.mkdir(os.path.join(os.getcwd(),\"images_from_the_past\",'FINLAND','museovirasto',term))\n",
    "\n",
    "for url in final_urls:\n",
    "    ## Set up the image URL and filename\n",
    "    image_url = url\n",
    "    filename = image_url.split(\".\")[3].split('&')[0]\n",
    "    filename= os.path.join(os.getcwd(),\"images_from_the_past\",'FINLAND','museovirasto',term,filename+'.jpg')\n",
    "    # Open the url image, set stream to True, this will return the stream content.\n",
    "    r = requests.get(image_url, stream = True)\n",
    "\n",
    "    # Check if the image was retrieved successfully\n",
    "    if r.status_code == 200:\n",
    "        # Set decode_content value to True, otherwise the downloaded image file's size will be zero.\n",
    "        r.raw.decode_content = True\n",
    "\n",
    "        # Open a local file with wb ( write binary ) permission.\n",
    "        with open(filename,'wb') as f:\n",
    "            shutil.copyfileobj(r.raw, f)\n",
    "\n",
    "    #     print('Image sucessfully Downloaded: ',filename)\n",
    "    else:\n",
    "        print('Image Couldn\\'t be retreived')\n",
    "\n",
    "final_df= pd.DataFrame()\n",
    "col_name= term+fromyear+'to'+ up_to\n",
    "final_df[col_name]= final_urls\n",
    "csv_name= col_name+\".csv\"\n",
    "csv_name=os.path.join(os.getcwd(),\"images_from_the_past\",'FINLAND','museovirasto',csv_name)\n",
    "final_df.to_csv(csv_name,index=False)"
   ]
  },
  {
   "cell_type": "markdown",
   "id": "b638cb92",
   "metadata": {
    "jp-MarkdownHeadingCollapsed": true
   },
   "source": [
    "# HelsinkiKuvia"
   ]
  },
  {
   "cell_type": "code",
   "execution_count": 6,
   "id": "99dbe4f7",
   "metadata": {},
   "outputs": [
    {
     "name": "stdout",
     "output_type": "stream",
     "text": [
      "Insert search term: Lapuan liike\n",
      "Insert number of pages: 3\n"
     ]
    }
   ],
   "source": [
    "start= 'https://www.helsinkikuvia.fi/search/?search='\n",
    "term= str(input('Insert search term: '))\n",
    "date='&date_from='\n",
    "fromyear= str(1900)\n",
    "dateto='&date_to='\n",
    "up_to=str(1999)\n",
    "end='&page='\n",
    "pg_num=int(input('Insert number of pages: '))\n",
    "\n",
    "final_urls=[]\n",
    "pg_num+=1\n",
    "\n",
    "for page in range(1,pg_num):\n",
    "    page=str(page)\n",
    "    final_search=start+term+date+fromyear+dateto+up_to+end+page\n",
    "    reqs = requests.get(final_search)\n",
    "    soup = BeautifulSoup(reqs.text, 'html.parser')\n",
    "    txt= r'/search/details/.*>'\n",
    "    for url in re.findall(txt,str(soup.find_all('a',href=True))):\n",
    "            url=url.replace('/search/details/?image_id=','https://finna.fi/Cover/Show?id=')\n",
    "            url=url.replace('\">','&size=master&index=0')\n",
    "            final_urls.append(url)\n",
    "\n",
    "os.mkdir(os.path.join(os.getcwd(),\"images_from_the_past\",'FINLAND','helsinkikuvia',term))\n",
    "\n",
    "for url in final_urls:\n",
    "    ## Set up the image URL and filename\n",
    "    image_url = url\n",
    "    filename = image_url.split(\"=\")[-3].split(\":\")[1].split(\"&\")[0]\n",
    "    filename= os.path.join(os.getcwd(),\"images_from_the_past\",'FINLAND','helsinkikuvia',term,filename+'.jpg')\n",
    "    # Open the url image, set stream to True, this will return the stream content.\n",
    "    r = requests.get(image_url, stream = True)\n",
    "\n",
    "    # Check if the image was retrieved successfully\n",
    "    if r.status_code == 200:\n",
    "        # Set decode_content value to True, otherwise the downloaded image file's size will be zero.\n",
    "        r.raw.decode_content = True\n",
    "\n",
    "        # Open a local file with wb ( write binary ) permission.\n",
    "        with open(filename,'wb') as f:\n",
    "            shutil.copyfileobj(r.raw, f)\n",
    "\n",
    "    #     print('Image sucessfully Downloaded: ',filename)\n",
    "    else:\n",
    "        print('Image Couldn\\'t be retreived')\n",
    "\n",
    "final_df= pd.DataFrame()\n",
    "col_name= term+fromyear+'to'+ up_to\n",
    "final_df[col_name]= final_urls\n",
    "csv_name= col_name+\".csv\"\n",
    "csv_name=os.path.join(os.getcwd(),\"images_from_the_past\",'FINLAND','helsinkikuvia',csv_name)\n",
    "final_df.to_csv(csv_name,index=False)"
   ]
  },
  {
   "cell_type": "code",
   "execution_count": 5,
   "id": "d0a68fdc",
   "metadata": {},
   "outputs": [
    {
     "name": "stdout",
     "output_type": "stream",
     "text": [
      "Insert number of all images available for the this search term: 48\n"
     ]
    },
    {
     "data": {
      "text/plain": [
       "2.2"
      ]
     },
     "execution_count": 5,
     "metadata": {},
     "output_type": "execute_result"
    }
   ],
   "source": [
    "round((int(input(\"Insert number of all images available for the this search term: \"))/40)+1,1)"
   ]
  },
  {
   "cell_type": "markdown",
   "id": "85d50b31",
   "metadata": {
    "jp-MarkdownHeadingCollapsed": true
   },
   "source": [
    "# Arjenhistoria"
   ]
  },
  {
   "cell_type": "code",
   "execution_count": null,
   "id": "b4a1440d",
   "metadata": {},
   "outputs": [],
   "source": [
    "######## https://siiri.tampere.fi/search.do?&page=2\n",
    "\n",
    "start='http://www.arjenhistoria.fi/?q='\n",
    "term= 'Mielenosoitukset'\n",
    "end= '&limit='\n",
    "limit=0\n",
    "\n",
    "# limit+=20\n",
    "# id=xxxxxxx"
   ]
  },
  {
   "cell_type": "code",
   "execution_count": null,
   "id": "fe2ad607",
   "metadata": {},
   "outputs": [],
   "source": [
    "final_urls=[]\n",
    "\n",
    "start_rec=0\n",
    "for search in range(1,num_page):\n",
    "    start_rec+=50\n",
    "    final_search=str(url_start+str(start_rec)+url_middle+str(search)+url_end+filter_end)\n",
    "    reqs = requests.get(final_search)\n",
    "    soup = BeautifulSoup(reqs.text, 'html.parser')\n",
    "    prefix= 'https://gallica.bnf.fr/ark:'\n",
    "    txt= '(?:(?:https?):\\/\\/)?[\\w/\\-?=%.]+\\.highres'\n",
    "    for url in re.findall(txt,str(soup)):\n",
    "        suffix= url.replace(\".\",\"/f1.\")\n",
    "        all_together= prefix+suffix\n",
    "        final_urls.append(all_together)"
   ]
  },
  {
   "cell_type": "code",
   "execution_count": null,
   "id": "d8f7d4dc",
   "metadata": {},
   "outputs": [],
   "source": [
    "# http://www.arjenhistoria.fi/?q=lakko&limit=40"
   ]
  },
  {
   "cell_type": "code",
   "execution_count": null,
   "id": "27a476d3",
   "metadata": {},
   "outputs": [],
   "source": [
    "# http://www.arjenhistoria.fi/actions/viewimage.php?id=1475582&imgres=lres"
   ]
  },
  {
   "cell_type": "code",
   "execution_count": null,
   "id": "186022de",
   "metadata": {},
   "outputs": [],
   "source": [
    "# <img src=\"http://www.arjenhistoria.fi/actions/viewimage.php?id=1475582&amp;imgres=thumb\">"
   ]
  }
 ],
 "metadata": {
  "kernelspec": {
   "display_name": "Python 3 (ipykernel)",
   "language": "python",
   "name": "python3"
  },
  "language_info": {
   "codemirror_mode": {
    "name": "ipython",
    "version": 3
   },
   "file_extension": ".py",
   "mimetype": "text/x-python",
   "name": "python",
   "nbconvert_exporter": "python",
   "pygments_lexer": "ipython3",
   "version": "3.9.18"
  }
 },
 "nbformat": 4,
 "nbformat_minor": 5
}
