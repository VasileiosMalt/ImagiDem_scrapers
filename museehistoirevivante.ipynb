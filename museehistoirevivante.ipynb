{
 "cells": [
  {
   "cell_type": "code",
   "execution_count": 32,
   "id": "49941cb4",
   "metadata": {},
   "outputs": [],
   "source": [
    "import re\n",
    "import requests\n",
    "from bs4 import BeautifulSoup"
   ]
  },
  {
   "cell_type": "code",
   "execution_count": 33,
   "id": "ab23500f",
   "metadata": {},
   "outputs": [],
   "source": [
    "final_search= 'http://www.museehistoirevivante.fr/expositions/anciennes-expositions/1936-nouvelles-images-nouveaux-regards-sur-le-front-populaire'"
   ]
  },
  {
   "cell_type": "code",
   "execution_count": 34,
   "id": "91f2da3b",
   "metadata": {},
   "outputs": [
    {
     "data": {
      "text/plain": [
       "['IMG/jpg/expo_2016_1936_01.jpg',\n",
       " 'IMG/jpg/expo_2016_1936_02.jpg',\n",
       " 'IMG/jpg/expo_2016_1936_03.jpg',\n",
       " 'IMG/jpg/expo_2016_1936_04.jpg',\n",
       " 'IMG/jpg/expo_2016_1936_05.jpg',\n",
       " 'IMG/jpg/expo_2016_1936_06.jpg',\n",
       " 'IMG/jpg/expo_2016_1936_07.jpg',\n",
       " 'IMG/jpg/expo_2016_1936_08.jpg',\n",
       " 'IMG/jpg/expo_2016_1936_09.jpg',\n",
       " 'IMG/jpg/expo_2016_1936_11.jpg',\n",
       " 'IMG/jpg/expo_2016_1936_12.jpg',\n",
       " 'IMG/jpg/expo_2016_1936_13.jpg',\n",
       " 'IMG/jpg/expo_2016_1936_14.jpg',\n",
       " 'IMG/jpg/expo_2016_1936_15.jpg',\n",
       " 'IMG/jpg/expo_2016_1936_16.jpg',\n",
       " 'IMG/jpg/expo_2016_1936_17.jpg',\n",
       " 'IMG/jpg/expo_2016_1936_18.jpg',\n",
       " 'IMG/jpg/expo_2016_1936_19.jpg',\n",
       " 'IMG/jpg/expo_2016_1936_20.jpg']"
      ]
     },
     "execution_count": 34,
     "metadata": {},
     "output_type": "execute_result"
    }
   ],
   "source": [
    "reqs = requests.get(final_search)\n",
    "soup = BeautifulSoup(reqs.text, 'html.parser')\n",
    "txt= 'IMG/jpg/[\\w/\\-?=%.]+\\.jpg'\n",
    "re.findall(txt,str(soup))"
   ]
  },
  {
   "cell_type": "code",
   "execution_count": 35,
   "id": "2be4e07e",
   "metadata": {},
   "outputs": [],
   "source": [
    "prefix= 'http://www.museehistoirevivante.fr'\n",
    "final_urls=[]"
   ]
  },
  {
   "cell_type": "code",
   "execution_count": 36,
   "id": "e908f0df",
   "metadata": {},
   "outputs": [],
   "source": [
    "for url in re.findall(txt,str(soup)):\n",
    "        suffix= '/'+url\n",
    "        all_together= prefix+suffix\n",
    "        final_urls.append(all_together)"
   ]
  },
  {
   "cell_type": "code",
   "execution_count": 37,
   "id": "64492637",
   "metadata": {},
   "outputs": [],
   "source": [
    "final_urls= list(set(final_urls))"
   ]
  },
  {
   "cell_type": "code",
   "execution_count": 38,
   "id": "9d194397",
   "metadata": {},
   "outputs": [],
   "source": [
    "search_term='1936-nouvelles-images-nouveaux-regards-sur-le-front-populaire'.replace(\"-\",\"_\")"
   ]
  },
  {
   "cell_type": "code",
   "execution_count": 39,
   "id": "c9a4c600",
   "metadata": {},
   "outputs": [],
   "source": [
    "import pandas as pd\n",
    "final_df= pd.DataFrame()\n",
    "col_name= 'museehistoirevivante'+search_term\n",
    "final_df[col_name]= final_urls\n",
    "csv_name= col_name+\".csv\""
   ]
  },
  {
   "cell_type": "code",
   "execution_count": 40,
   "id": "78c471de",
   "metadata": {},
   "outputs": [],
   "source": [
    "os.mkdir(os.path.join(os.getcwd(),\"images_from_the_past\",'FRANCE',col_name))"
   ]
  },
  {
   "cell_type": "code",
   "execution_count": 41,
   "id": "1d009311",
   "metadata": {},
   "outputs": [],
   "source": [
    "import os\n",
    "final_df.to_csv(os.path.join(os.getcwd(),\"images_from_the_past\",'FRANCE',csv_name),index=False)"
   ]
  },
  {
   "cell_type": "code",
   "execution_count": 42,
   "id": "2974df18",
   "metadata": {},
   "outputs": [],
   "source": [
    "import shutil"
   ]
  },
  {
   "cell_type": "code",
   "execution_count": 43,
   "id": "7bf50479",
   "metadata": {},
   "outputs": [],
   "source": [
    "for url in final_urls:\n",
    "    ## Set up the image URL and filename\n",
    "    image_url = url\n",
    "    filename = image_url.split(\"/\")[-1]\n",
    "    filename=filename.replace(\"/\",\"_\")\n",
    "    filename=filename.replace(\"-\",\"_\")\n",
    "    filename= os.path.join(os.getcwd(),\"images_from_the_past\",'FRANCE',col_name,filename)\n",
    "    # Open the url image, set stream to True, this will return the stream content.\n",
    "    r = requests.get(image_url, stream = True)\n",
    "\n",
    "    # Check if the image was retrieved successfully\n",
    "    if r.status_code == 200:\n",
    "        # Set decode_content value to True, otherwise the downloaded image file's size will be zero.\n",
    "        r.raw.decode_content = True\n",
    "\n",
    "        # Open a local file with wb ( write binary ) permission.\n",
    "        with open(filename,'wb') as f:\n",
    "            shutil.copyfileobj(r.raw, f)\n",
    "\n",
    "    #     print('Image sucessfully Downloaded: ',filename)\n",
    "    else:\n",
    "        print('Image Couldn\\'t be retreived')"
   ]
  }
 ],
 "metadata": {
  "kernelspec": {
   "display_name": "Python 3 (ipykernel)",
   "language": "python",
   "name": "python3"
  },
  "language_info": {
   "codemirror_mode": {
    "name": "ipython",
    "version": 3
   },
   "file_extension": ".py",
   "mimetype": "text/x-python",
   "name": "python",
   "nbconvert_exporter": "python",
   "pygments_lexer": "ipython3",
   "version": "3.9.18"
  }
 },
 "nbformat": 4,
 "nbformat_minor": 5
}
