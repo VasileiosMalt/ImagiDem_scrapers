{
 "cells": [
  {
   "cell_type": "code",
   "execution_count": 57,
   "id": "693a73dc",
   "metadata": {},
   "outputs": [],
   "source": [
    "import re\n",
    "import requests\n",
    "from bs4 import BeautifulSoup\n",
    "import pandas as pd\n",
    "import requests\n",
    "import shutil\n",
    "import os"
   ]
  },
  {
   "cell_type": "code",
   "execution_count": 77,
   "id": "41c6250e",
   "metadata": {},
   "outputs": [
    {
     "name": "stdout",
     "output_type": "stream",
     "text": [
      "Insert the url from the cd25 website (must be an itempage): http://www.cd25a.uc.pt/index.php?r=site/page&view=itempage&p=934\n",
      "Insert the search term or subject without blanks: Murais_ As paredes da Revolucao 2\n"
     ]
    }
   ],
   "source": [
    "final_urls=[]\n",
    "\n",
    "final_search= str(input(\"Insert the url from the cd25 website (must be an itempage): \"))\n",
    "reqs = requests.get(final_search)\n",
    "soup = BeautifulSoup(reqs.text, 'html.parser')\n",
    "txt= '(?:(?:https?):\\/\\/)?[\\w/\\-?=%.]+\\.jpg'\n",
    "for url in re.findall(txt,str(soup)):\n",
    "    url= url.replace('./media','http://www.cd25a.uc.pt/media')\n",
    "    url= url.replace('_c_','')\n",
    "    final_urls.append(url)\n",
    "\n",
    "final_df= pd.DataFrame()\n",
    "final_df['site_images']= final_urls\n",
    "\n",
    "final_df= final_df.drop_duplicates()\n",
    "\n",
    "final_df= final_df[(final_df['site_images'].str.contains('banners')==False) & (final_df['site_images'].str.contains('themes')==False)]\n",
    "\n",
    "final_urls= final_df['site_images'].to_list()\n",
    "\n",
    "search_term= str(input(\"Insert the search term or subject without blanks: \"))\n",
    "search_term= search_term.replace(' ','')\n",
    "search_term=search_term.replace(',','')\n",
    "os.mkdir(os.path.join(os.getcwd(),\"images_from_the_past\",search_term))"
   ]
  },
  {
   "cell_type": "code",
   "execution_count": 78,
   "id": "b89d836e",
   "metadata": {},
   "outputs": [],
   "source": [
    "for url in final_urls:\n",
    "    try:\n",
    "        image_url = url\n",
    "        filename = image_url.split(\"/\")[-1]\n",
    "        filename=filename.replace(\"/\",\"_\")\n",
    "        filename= os.path.join(os.getcwd(),\"images_from_the_past\",search_term,filename)\n",
    "        r = requests.get(image_url, stream = True)\n",
    "\n",
    "        # Check if the image was retrieved successfully\n",
    "        if r.status_code == 200:\n",
    "            # Set decode_content value to True, otherwise the downloaded image file's size will be zero.\n",
    "            r.raw.decode_content = True\n",
    "\n",
    "            # Open a local file with wb ( write binary ) permission.\n",
    "            with open(filename,'wb') as f:\n",
    "                shutil.copyfileobj(r.raw, f)\n",
    "        else:\n",
    "            print('Image Couldn\\'t be retreived')\n",
    "    except:\n",
    "        continue"
   ]
  }
 ],
 "metadata": {
  "kernelspec": {
   "display_name": "Python 3 (ipykernel)",
   "language": "python",
   "name": "python3"
  },
  "language_info": {
   "codemirror_mode": {
    "name": "ipython",
    "version": 3
   },
   "file_extension": ".py",
   "mimetype": "text/x-python",
   "name": "python",
   "nbconvert_exporter": "python",
   "pygments_lexer": "ipython3",
   "version": "3.9.18"
  }
 },
 "nbformat": 4,
 "nbformat_minor": 5
}
